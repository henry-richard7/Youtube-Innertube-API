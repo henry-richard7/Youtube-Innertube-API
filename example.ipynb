{
 "cells": [
  {
   "cell_type": "code",
   "execution_count": 1,
   "metadata": {},
   "outputs": [],
   "source": [
    "from YoutubeInnerApi import YoutubeInnerApi"
   ]
  },
  {
   "cell_type": "code",
   "execution_count": 5,
   "metadata": {},
   "outputs": [],
   "source": [
    "import pandas"
   ]
  },
  {
   "cell_type": "code",
   "execution_count": 2,
   "metadata": {},
   "outputs": [],
   "source": [
    "yt_api = YoutubeInnerApi()"
   ]
  },
  {
   "cell_type": "code",
   "execution_count": 3,
   "metadata": {},
   "outputs": [],
   "source": [
    "channel_id = \"UCVGasc5jr45eZUpZNHvbtWQ\""
   ]
  },
  {
   "attachments": {},
   "cell_type": "markdown",
   "metadata": {},
   "source": [
    "## Setting get_videos parameter to True will return dict with dict with 2 key:\n",
    "\n",
    "* channel_meta -> dict that has given channel meta details.\n",
    "* videos -> all videos uploaded in the channel"
   ]
  },
  {
   "cell_type": "code",
   "execution_count": 4,
   "metadata": {},
   "outputs": [],
   "source": [
    "result = yt_api.get_channel(channel_id,get_videos=True)"
   ]
  },
  {
   "attachments": {},
   "cell_type": "markdown",
   "metadata": {},
   "source": [
    "# Channel Meta details Dataframe"
   ]
  },
  {
   "cell_type": "code",
   "execution_count": 6,
   "metadata": {},
   "outputs": [
    {
     "data": {
      "text/html": [
       "<div>\n",
       "<style scoped>\n",
       "    .dataframe tbody tr th:only-of-type {\n",
       "        vertical-align: middle;\n",
       "    }\n",
       "\n",
       "    .dataframe tbody tr th {\n",
       "        vertical-align: top;\n",
       "    }\n",
       "\n",
       "    .dataframe thead th {\n",
       "        text-align: right;\n",
       "    }\n",
       "</style>\n",
       "<table border=\"1\" class=\"dataframe\">\n",
       "  <thead>\n",
       "    <tr style=\"text-align: right;\">\n",
       "      <th></th>\n",
       "      <th>channelName</th>\n",
       "      <th>thumbnail</th>\n",
       "      <th>banner</th>\n",
       "      <th>description</th>\n",
       "      <th>subscriberCount</th>\n",
       "      <th>video_count</th>\n",
       "    </tr>\n",
       "  </thead>\n",
       "  <tbody>\n",
       "    <tr>\n",
       "      <th>0</th>\n",
       "      <td>Henry Richard</td>\n",
       "      <td>https://yt3.googleusercontent.com/GoCoL8lPrDgy...</td>\n",
       "      <td>https://yt3.googleusercontent.com/2K2AZhJ0AWCV...</td>\n",
       "      <td>If you guys liked my videos please like, share...</td>\n",
       "      <td>432.0</td>\n",
       "      <td>69</td>\n",
       "    </tr>\n",
       "  </tbody>\n",
       "</table>\n",
       "</div>"
      ],
      "text/plain": [
       "     channelName                                          thumbnail   \n",
       "0  Henry Richard  https://yt3.googleusercontent.com/GoCoL8lPrDgy...  \\\n",
       "\n",
       "                                              banner   \n",
       "0  https://yt3.googleusercontent.com/2K2AZhJ0AWCV...  \\\n",
       "\n",
       "                                         description  subscriberCount   \n",
       "0  If you guys liked my videos please like, share...            432.0  \\\n",
       "\n",
       "  video_count  \n",
       "0          69  "
      ]
     },
     "execution_count": 6,
     "metadata": {},
     "output_type": "execute_result"
    }
   ],
   "source": [
    "pandas.DataFrame([result['channel_meta']])"
   ]
  },
  {
   "attachments": {},
   "cell_type": "markdown",
   "metadata": {},
   "source": [
    "# All Videos in the channel"
   ]
  },
  {
   "cell_type": "code",
   "execution_count": 7,
   "metadata": {},
   "outputs": [
    {
     "data": {
      "text/html": [
       "<div>\n",
       "<style scoped>\n",
       "    .dataframe tbody tr th:only-of-type {\n",
       "        vertical-align: middle;\n",
       "    }\n",
       "\n",
       "    .dataframe tbody tr th {\n",
       "        vertical-align: top;\n",
       "    }\n",
       "\n",
       "    .dataframe thead th {\n",
       "        text-align: right;\n",
       "    }\n",
       "</style>\n",
       "<table border=\"1\" class=\"dataframe\">\n",
       "  <thead>\n",
       "    <tr style=\"text-align: right;\">\n",
       "      <th></th>\n",
       "      <th>videoId</th>\n",
       "      <th>thumbnail</th>\n",
       "      <th>title</th>\n",
       "      <th>view_count</th>\n",
       "      <th>likes_count</th>\n",
       "      <th>comment_count</th>\n",
       "    </tr>\n",
       "  </thead>\n",
       "  <tbody>\n",
       "    <tr>\n",
       "      <th>0</th>\n",
       "      <td>qSLPsvb1U_s</td>\n",
       "      <td>https://i.ytimg.com/vi/qSLPsvb1U_s/hqdefault.j...</td>\n",
       "      <td>Python Flask Tutorial | Simple Login Web App |...</td>\n",
       "      <td>2287</td>\n",
       "      <td>39</td>\n",
       "      <td>14</td>\n",
       "    </tr>\n",
       "    <tr>\n",
       "      <th>1</th>\n",
       "      <td>iwK9dsRgVmE</td>\n",
       "      <td>https://i.ytimg.com/vi/iwK9dsRgVmE/hqdefault.j...</td>\n",
       "      <td>How to convert or encode any video to 60 FPS u...</td>\n",
       "      <td>3728</td>\n",
       "      <td>74</td>\n",
       "      <td>12</td>\n",
       "    </tr>\n",
       "    <tr>\n",
       "      <th>2</th>\n",
       "      <td>JtKKVP-nsn8</td>\n",
       "      <td>https://i.ytimg.com/vi/JtKKVP-nsn8/hqdefault.j...</td>\n",
       "      <td>Farlight 84 | BR Solo vs Squad | 10 Kills</td>\n",
       "      <td>15</td>\n",
       "      <td>2</td>\n",
       "      <td>0</td>\n",
       "    </tr>\n",
       "    <tr>\n",
       "      <th>3</th>\n",
       "      <td>_9qsRtlaylU</td>\n",
       "      <td>https://i.ytimg.com/vi/_9qsRtlaylU/hqdefault.j...</td>\n",
       "      <td>Call Of Duty Mobile | BR Blackout Solo | Grand...</td>\n",
       "      <td>16</td>\n",
       "      <td>1</td>\n",
       "      <td>1</td>\n",
       "    </tr>\n",
       "    <tr>\n",
       "      <th>4</th>\n",
       "      <td>EQs6tWqRELg</td>\n",
       "      <td>https://i.ytimg.com/vi/EQs6tWqRELg/hqdefault.j...</td>\n",
       "      <td>Call Of Duty Multiplayer | Rapid Fire</td>\n",
       "      <td>21</td>\n",
       "      <td>1</td>\n",
       "      <td>0</td>\n",
       "    </tr>\n",
       "    <tr>\n",
       "      <th>...</th>\n",
       "      <td>...</td>\n",
       "      <td>...</td>\n",
       "      <td>...</td>\n",
       "      <td>...</td>\n",
       "      <td>...</td>\n",
       "      <td>...</td>\n",
       "    </tr>\n",
       "    <tr>\n",
       "      <th>64</th>\n",
       "      <td>MQk5N3EeXC4</td>\n",
       "      <td>https://i.ytimg.com/vi/MQk5N3EeXC4/hqdefault.j...</td>\n",
       "      <td>Create Windows app using C# | .NET Framework |...</td>\n",
       "      <td>227</td>\n",
       "      <td>12</td>\n",
       "      <td>6</td>\n",
       "    </tr>\n",
       "    <tr>\n",
       "      <th>65</th>\n",
       "      <td>exGBpm3smko</td>\n",
       "      <td>https://i.ytimg.com/vi/exGBpm3smko/hqdefault.j...</td>\n",
       "      <td>Create Web App with python | Flask Framework |...</td>\n",
       "      <td>131</td>\n",
       "      <td>6</td>\n",
       "      <td>0</td>\n",
       "    </tr>\n",
       "    <tr>\n",
       "      <th>66</th>\n",
       "      <td>soDusH8UNf4</td>\n",
       "      <td>https://i.ytimg.com/vi/soDusH8UNf4/hqdefault.j...</td>\n",
       "      <td>How to create Keygen | Python tutorial</td>\n",
       "      <td>572</td>\n",
       "      <td>25</td>\n",
       "      <td>1</td>\n",
       "    </tr>\n",
       "    <tr>\n",
       "      <th>67</th>\n",
       "      <td>8A6QbrV30QA</td>\n",
       "      <td>https://i.ytimg.com/vi/8A6QbrV30QA/hqdefault.j...</td>\n",
       "      <td>Website scraping with python using beautifulsoup</td>\n",
       "      <td>288</td>\n",
       "      <td>10</td>\n",
       "      <td>5</td>\n",
       "    </tr>\n",
       "    <tr>\n",
       "      <th>68</th>\n",
       "      <td>Qk7njnk7xNI</td>\n",
       "      <td>https://i.ytimg.com/vi/Qk7njnk7xNI/hqdefault.j...</td>\n",
       "      <td>Channel Trailer</td>\n",
       "      <td>147</td>\n",
       "      <td>15</td>\n",
       "      <td>0</td>\n",
       "    </tr>\n",
       "  </tbody>\n",
       "</table>\n",
       "<p>69 rows × 6 columns</p>\n",
       "</div>"
      ],
      "text/plain": [
       "        videoId                                          thumbnail   \n",
       "0   qSLPsvb1U_s  https://i.ytimg.com/vi/qSLPsvb1U_s/hqdefault.j...  \\\n",
       "1   iwK9dsRgVmE  https://i.ytimg.com/vi/iwK9dsRgVmE/hqdefault.j...   \n",
       "2   JtKKVP-nsn8  https://i.ytimg.com/vi/JtKKVP-nsn8/hqdefault.j...   \n",
       "3   _9qsRtlaylU  https://i.ytimg.com/vi/_9qsRtlaylU/hqdefault.j...   \n",
       "4   EQs6tWqRELg  https://i.ytimg.com/vi/EQs6tWqRELg/hqdefault.j...   \n",
       "..          ...                                                ...   \n",
       "64  MQk5N3EeXC4  https://i.ytimg.com/vi/MQk5N3EeXC4/hqdefault.j...   \n",
       "65  exGBpm3smko  https://i.ytimg.com/vi/exGBpm3smko/hqdefault.j...   \n",
       "66  soDusH8UNf4  https://i.ytimg.com/vi/soDusH8UNf4/hqdefault.j...   \n",
       "67  8A6QbrV30QA  https://i.ytimg.com/vi/8A6QbrV30QA/hqdefault.j...   \n",
       "68  Qk7njnk7xNI  https://i.ytimg.com/vi/Qk7njnk7xNI/hqdefault.j...   \n",
       "\n",
       "                                                title  view_count   \n",
       "0   Python Flask Tutorial | Simple Login Web App |...        2287  \\\n",
       "1   How to convert or encode any video to 60 FPS u...        3728   \n",
       "2           Farlight 84 | BR Solo vs Squad | 10 Kills          15   \n",
       "3   Call Of Duty Mobile | BR Blackout Solo | Grand...          16   \n",
       "4               Call Of Duty Multiplayer | Rapid Fire          21   \n",
       "..                                                ...         ...   \n",
       "64  Create Windows app using C# | .NET Framework |...         227   \n",
       "65  Create Web App with python | Flask Framework |...         131   \n",
       "66             How to create Keygen | Python tutorial         572   \n",
       "67   Website scraping with python using beautifulsoup         288   \n",
       "68                                    Channel Trailer         147   \n",
       "\n",
       "    likes_count  comment_count  \n",
       "0            39             14  \n",
       "1            74             12  \n",
       "2             2              0  \n",
       "3             1              1  \n",
       "4             1              0  \n",
       "..          ...            ...  \n",
       "64           12              6  \n",
       "65            6              0  \n",
       "66           25              1  \n",
       "67           10              5  \n",
       "68           15              0  \n",
       "\n",
       "[69 rows x 6 columns]"
      ]
     },
     "execution_count": 7,
     "metadata": {},
     "output_type": "execute_result"
    }
   ],
   "source": [
    "pandas.DataFrame(result['videos'])"
   ]
  }
 ],
 "metadata": {
  "kernelspec": {
   "display_name": "Python 3",
   "language": "python",
   "name": "python3"
  },
  "language_info": {
   "codemirror_mode": {
    "name": "ipython",
    "version": 3
   },
   "file_extension": ".py",
   "mimetype": "text/x-python",
   "name": "python",
   "nbconvert_exporter": "python",
   "pygments_lexer": "ipython3",
   "version": "3.9.6"
  },
  "orig_nbformat": 4,
  "vscode": {
   "interpreter": {
    "hash": "31f2aee4e71d21fbe5cf8b01ff0e069b9275f58929596ceb00d14d90e3e16cd6"
   }
  }
 },
 "nbformat": 4,
 "nbformat_minor": 2
}
