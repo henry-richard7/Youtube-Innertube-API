{
 "cells": [
  {
   "cell_type": "code",
   "execution_count": 1,
   "metadata": {},
   "outputs": [],
   "source": [
    "from YoutubeInnerApi import YoutubeInnerApi"
   ]
  },
  {
   "cell_type": "code",
   "execution_count": 2,
   "metadata": {},
   "outputs": [],
   "source": [
    "import pandas"
   ]
  },
  {
   "cell_type": "code",
   "execution_count": 3,
   "metadata": {},
   "outputs": [],
   "source": [
    "yt_api = YoutubeInnerApi()"
   ]
  },
  {
   "cell_type": "code",
   "execution_count": 4,
   "metadata": {},
   "outputs": [],
   "source": [
    "channel_id = \"UCHQDjDDW8w2RieO-IuqYlyg\""
   ]
  },
  {
   "attachments": {},
   "cell_type": "markdown",
   "metadata": {},
   "source": [
    "# Channel Meta details Dataframe"
   ]
  },
  {
   "cell_type": "code",
   "execution_count": 5,
   "metadata": {},
   "outputs": [],
   "source": [
    "channel_meta = yt_api.get_channel(channel_id)"
   ]
  },
  {
   "cell_type": "code",
   "execution_count": 6,
   "metadata": {},
   "outputs": [
    {
     "data": {
      "text/html": [
       "<div>\n",
       "<style scoped>\n",
       "    .dataframe tbody tr th:only-of-type {\n",
       "        vertical-align: middle;\n",
       "    }\n",
       "\n",
       "    .dataframe tbody tr th {\n",
       "        vertical-align: top;\n",
       "    }\n",
       "\n",
       "    .dataframe thead th {\n",
       "        text-align: right;\n",
       "    }\n",
       "</style>\n",
       "<table border=\"1\" class=\"dataframe\">\n",
       "  <thead>\n",
       "    <tr style=\"text-align: right;\">\n",
       "      <th></th>\n",
       "      <th>channelName</th>\n",
       "      <th>thumbnail</th>\n",
       "      <th>banner</th>\n",
       "      <th>description</th>\n",
       "      <th>subscriberCount</th>\n",
       "      <th>viewsCount</th>\n",
       "      <th>joinedDate</th>\n",
       "      <th>country</th>\n",
       "      <th>bio</th>\n",
       "      <th>video_count</th>\n",
       "    </tr>\n",
       "  </thead>\n",
       "  <tbody>\n",
       "    <tr>\n",
       "      <th>0</th>\n",
       "      <td>AMD</td>\n",
       "      <td>https://yt3.googleusercontent.com/wFi1b8BRn9fF...</td>\n",
       "      <td>https://yt3.googleusercontent.com/PclCsx4Q6dzT...</td>\n",
       "      <td>Get the competitive edge for AI, data center, ...</td>\n",
       "      <td>592000</td>\n",
       "      <td>288076002</td>\n",
       "      <td>Dec 26, 2005</td>\n",
       "      <td>United States</td>\n",
       "      <td>None</td>\n",
       "      <td>1,736</td>\n",
       "    </tr>\n",
       "  </tbody>\n",
       "</table>\n",
       "</div>"
      ],
      "text/plain": [
       "  channelName                                          thumbnail  \\\n",
       "0         AMD  https://yt3.googleusercontent.com/wFi1b8BRn9fF...   \n",
       "\n",
       "                                              banner  \\\n",
       "0  https://yt3.googleusercontent.com/PclCsx4Q6dzT...   \n",
       "\n",
       "                                         description  subscriberCount  \\\n",
       "0  Get the competitive edge for AI, data center, ...           592000   \n",
       "\n",
       "   viewsCount    joinedDate        country   bio video_count  \n",
       "0   288076002  Dec 26, 2005  United States  None       1,736  "
      ]
     },
     "execution_count": 6,
     "metadata": {},
     "output_type": "execute_result"
    }
   ],
   "source": [
    "pandas.DataFrame([channel_meta])"
   ]
  },
  {
   "cell_type": "markdown",
   "metadata": {},
   "source": [
    "## Get All Videos From YT channel"
   ]
  },
  {
   "cell_type": "code",
   "execution_count": 7,
   "metadata": {},
   "outputs": [],
   "source": [
    "videos = yt_api.get_playlist(channel_id)"
   ]
  },
  {
   "cell_type": "code",
   "execution_count": 8,
   "metadata": {},
   "outputs": [
    {
     "data": {
      "text/html": [
       "<div>\n",
       "<style scoped>\n",
       "    .dataframe tbody tr th:only-of-type {\n",
       "        vertical-align: middle;\n",
       "    }\n",
       "\n",
       "    .dataframe tbody tr th {\n",
       "        vertical-align: top;\n",
       "    }\n",
       "\n",
       "    .dataframe thead th {\n",
       "        text-align: right;\n",
       "    }\n",
       "</style>\n",
       "<table border=\"1\" class=\"dataframe\">\n",
       "  <thead>\n",
       "    <tr style=\"text-align: right;\">\n",
       "      <th></th>\n",
       "      <th>video_id</th>\n",
       "      <th>title</th>\n",
       "      <th>thumbnail</th>\n",
       "    </tr>\n",
       "  </thead>\n",
       "  <tbody>\n",
       "    <tr>\n",
       "      <th>0</th>\n",
       "      <td>IyiIQEOkwKY</td>\n",
       "      <td>LIES OF P: The AMD Radeon Experience</td>\n",
       "      <td>https://i.ytimg.com/vi/IyiIQEOkwKY/hqdefault.j...</td>\n",
       "    </tr>\n",
       "    <tr>\n",
       "      <th>1</th>\n",
       "      <td>iT0tCUpJDkg</td>\n",
       "      <td>AMD EPYC™ 8004 Processors:  Optimized for Clou...</td>\n",
       "      <td>https://i.ytimg.com/vi/iT0tCUpJDkg/hqdefault.j...</td>\n",
       "    </tr>\n",
       "    <tr>\n",
       "      <th>2</th>\n",
       "      <td>7OEbGlPw0yc</td>\n",
       "      <td>AMD Powers Rendering in Design, Engineering an...</td>\n",
       "      <td>https://i.ytimg.com/vi/7OEbGlPw0yc/hqdefault.j...</td>\n",
       "    </tr>\n",
       "    <tr>\n",
       "      <th>3</th>\n",
       "      <td>uzdUnfuqQyY</td>\n",
       "      <td>AMD Career Engineered: Data Architecture</td>\n",
       "      <td>https://i.ytimg.com/vi/uzdUnfuqQyY/hqdefault.j...</td>\n",
       "    </tr>\n",
       "    <tr>\n",
       "      <th>4</th>\n",
       "      <td>MX5IUXB34uE</td>\n",
       "      <td>AMD Gaming Festival @ gamescom 2023 - highligh...</td>\n",
       "      <td>https://i.ytimg.com/vi/MX5IUXB34uE/hqdefault.j...</td>\n",
       "    </tr>\n",
       "    <tr>\n",
       "      <th>...</th>\n",
       "      <td>...</td>\n",
       "      <td>...</td>\n",
       "      <td>...</td>\n",
       "    </tr>\n",
       "    <tr>\n",
       "      <th>1731</th>\n",
       "      <td>N4-7bBywUSk</td>\n",
       "      <td>AMD A-Series APU Software Experiences</td>\n",
       "      <td>https://i.ytimg.com/vi/N4-7bBywUSk/hqdefault.j...</td>\n",
       "    </tr>\n",
       "    <tr>\n",
       "      <th>1732</th>\n",
       "      <td>JqH1Gxe1tOg</td>\n",
       "      <td>AMD Radeon™ HD7900 and Graphics Core Next Demo...</td>\n",
       "      <td>https://i.ytimg.com/vi/JqH1Gxe1tOg/hqdefault.j...</td>\n",
       "    </tr>\n",
       "    <tr>\n",
       "      <th>1733</th>\n",
       "      <td>aSWgDoSmp-U</td>\n",
       "      <td>Zupełnie nowy układ APU</td>\n",
       "      <td>https://i.ytimg.com/vi/aSWgDoSmp-U/hqdefault.j...</td>\n",
       "    </tr>\n",
       "    <tr>\n",
       "      <th>1734</th>\n",
       "      <td>H0MX54Y53M8</td>\n",
       "      <td>Introducing the AMD HD Media Accelerator</td>\n",
       "      <td>https://i.ytimg.com/vi/H0MX54Y53M8/hqdefault.j...</td>\n",
       "    </tr>\n",
       "    <tr>\n",
       "      <th>1735</th>\n",
       "      <td>-DiUes4Wt-8</td>\n",
       "      <td>AMD Eyefinity 5x1 Display at Game Developers C...</td>\n",
       "      <td>https://i.ytimg.com/vi/-DiUes4Wt-8/hqdefault.j...</td>\n",
       "    </tr>\n",
       "  </tbody>\n",
       "</table>\n",
       "<p>1736 rows × 3 columns</p>\n",
       "</div>"
      ],
      "text/plain": [
       "         video_id                                              title  \\\n",
       "0     IyiIQEOkwKY               LIES OF P: The AMD Radeon Experience   \n",
       "1     iT0tCUpJDkg  AMD EPYC™ 8004 Processors:  Optimized for Clou...   \n",
       "2     7OEbGlPw0yc  AMD Powers Rendering in Design, Engineering an...   \n",
       "3     uzdUnfuqQyY           AMD Career Engineered: Data Architecture   \n",
       "4     MX5IUXB34uE  AMD Gaming Festival @ gamescom 2023 - highligh...   \n",
       "...           ...                                                ...   \n",
       "1731  N4-7bBywUSk              AMD A-Series APU Software Experiences   \n",
       "1732  JqH1Gxe1tOg  AMD Radeon™ HD7900 and Graphics Core Next Demo...   \n",
       "1733  aSWgDoSmp-U                            Zupełnie nowy układ APU   \n",
       "1734  H0MX54Y53M8           Introducing the AMD HD Media Accelerator   \n",
       "1735  -DiUes4Wt-8  AMD Eyefinity 5x1 Display at Game Developers C...   \n",
       "\n",
       "                                              thumbnail  \n",
       "0     https://i.ytimg.com/vi/IyiIQEOkwKY/hqdefault.j...  \n",
       "1     https://i.ytimg.com/vi/iT0tCUpJDkg/hqdefault.j...  \n",
       "2     https://i.ytimg.com/vi/7OEbGlPw0yc/hqdefault.j...  \n",
       "3     https://i.ytimg.com/vi/uzdUnfuqQyY/hqdefault.j...  \n",
       "4     https://i.ytimg.com/vi/MX5IUXB34uE/hqdefault.j...  \n",
       "...                                                 ...  \n",
       "1731  https://i.ytimg.com/vi/N4-7bBywUSk/hqdefault.j...  \n",
       "1732  https://i.ytimg.com/vi/JqH1Gxe1tOg/hqdefault.j...  \n",
       "1733  https://i.ytimg.com/vi/aSWgDoSmp-U/hqdefault.j...  \n",
       "1734  https://i.ytimg.com/vi/H0MX54Y53M8/hqdefault.j...  \n",
       "1735  https://i.ytimg.com/vi/-DiUes4Wt-8/hqdefault.j...  \n",
       "\n",
       "[1736 rows x 3 columns]"
      ]
     },
     "execution_count": 8,
     "metadata": {},
     "output_type": "execute_result"
    }
   ],
   "source": [
    "pandas.DataFrame(videos)"
   ]
  },
  {
   "cell_type": "markdown",
   "metadata": {},
   "source": [
    "## Get Metrics For Video ID"
   ]
  },
  {
   "cell_type": "code",
   "execution_count": 16,
   "metadata": {},
   "outputs": [],
   "source": [
    "video_metric = yt_api.get_video_metrics('JqH1Gxe1tOg')"
   ]
  },
  {
   "cell_type": "code",
   "execution_count": 17,
   "metadata": {},
   "outputs": [
    {
     "data": {
      "text/html": [
       "<div>\n",
       "<style scoped>\n",
       "    .dataframe tbody tr th:only-of-type {\n",
       "        vertical-align: middle;\n",
       "    }\n",
       "\n",
       "    .dataframe tbody tr th {\n",
       "        vertical-align: top;\n",
       "    }\n",
       "\n",
       "    .dataframe thead th {\n",
       "        text-align: right;\n",
       "    }\n",
       "</style>\n",
       "<table border=\"1\" class=\"dataframe\">\n",
       "  <thead>\n",
       "    <tr style=\"text-align: right;\">\n",
       "      <th></th>\n",
       "      <th>video_id</th>\n",
       "      <th>view_count</th>\n",
       "      <th>likes_count</th>\n",
       "      <th>comment_count</th>\n",
       "      <th>is_premium</th>\n",
       "      <th>post_create_date</th>\n",
       "    </tr>\n",
       "  </thead>\n",
       "  <tbody>\n",
       "    <tr>\n",
       "      <th>0</th>\n",
       "      <td>JqH1Gxe1tOg</td>\n",
       "      <td>1826</td>\n",
       "      <td>38</td>\n",
       "      <td>6</td>\n",
       "      <td>False</td>\n",
       "      <td>11 Jul 2012</td>\n",
       "    </tr>\n",
       "  </tbody>\n",
       "</table>\n",
       "</div>"
      ],
      "text/plain": [
       "      video_id  view_count  likes_count  comment_count  is_premium  \\\n",
       "0  JqH1Gxe1tOg        1826           38              6       False   \n",
       "\n",
       "  post_create_date  \n",
       "0      11 Jul 2012  "
      ]
     },
     "execution_count": 17,
     "metadata": {},
     "output_type": "execute_result"
    }
   ],
   "source": [
    "pandas.DataFrame([video_metric])"
   ]
  },
  {
   "cell_type": "markdown",
   "metadata": {},
   "source": [
    "## Get comments for video id (Does not include Reply to a comment.)"
   ]
  },
  {
   "cell_type": "code",
   "execution_count": 18,
   "metadata": {},
   "outputs": [],
   "source": [
    "comments = yt_api.get_comments('JqH1Gxe1tOg')"
   ]
  },
  {
   "cell_type": "code",
   "execution_count": 19,
   "metadata": {},
   "outputs": [
    {
     "data": {
      "text/html": [
       "<div>\n",
       "<style scoped>\n",
       "    .dataframe tbody tr th:only-of-type {\n",
       "        vertical-align: middle;\n",
       "    }\n",
       "\n",
       "    .dataframe tbody tr th {\n",
       "        vertical-align: top;\n",
       "    }\n",
       "\n",
       "    .dataframe thead th {\n",
       "        text-align: right;\n",
       "    }\n",
       "</style>\n",
       "<table border=\"1\" class=\"dataframe\">\n",
       "  <thead>\n",
       "    <tr style=\"text-align: right;\">\n",
       "      <th></th>\n",
       "      <th>commentAuthorName</th>\n",
       "      <th>authorThumbnail</th>\n",
       "      <th>commentText</th>\n",
       "      <th>commentPublishedTime</th>\n",
       "      <th>commentPublishedTimeText</th>\n",
       "      <th>commentId</th>\n",
       "      <th>CommentLikes</th>\n",
       "      <th>CommentReplies</th>\n",
       "    </tr>\n",
       "  </thead>\n",
       "  <tbody>\n",
       "    <tr>\n",
       "      <th>0</th>\n",
       "      <td>@pyrophobia133</td>\n",
       "      <td>https://yt3.ggpht.com/ytc/APkrFKYbSjvPJWqKvqme...</td>\n",
       "      <td>long live GCN</td>\n",
       "      <td>2021-09-26 21:56:48.904194</td>\n",
       "      <td>2 years ago</td>\n",
       "      <td>UgwoaddDYBhkqNMy3SB4AaABAg</td>\n",
       "      <td>1</td>\n",
       "      <td>0</td>\n",
       "    </tr>\n",
       "    <tr>\n",
       "      <th>1</th>\n",
       "      <td>@atiradeon8645</td>\n",
       "      <td>https://yt3.ggpht.com/ytc/APkrFKa6NxWR5LQW6NMg...</td>\n",
       "      <td>Hello AMD who is the owner of ATI RADEON</td>\n",
       "      <td>2021-09-26 21:56:48.904194</td>\n",
       "      <td>2 years ago</td>\n",
       "      <td>UgwJXclF6eV_cWx1XuR4AaABAg</td>\n",
       "      <td>0</td>\n",
       "      <td>0</td>\n",
       "    </tr>\n",
       "    <tr>\n",
       "      <th>2</th>\n",
       "      <td>@Silent-ci3ug</td>\n",
       "      <td>https://yt3.ggpht.com/MXvEsO5OjLlJaF01lNK4oKuz...</td>\n",
       "      <td>So long ago damn.</td>\n",
       "      <td>2021-09-26 21:56:48.904194</td>\n",
       "      <td>2 years ago</td>\n",
       "      <td>UgyiIU8AbCo3tuxPK114AaABAg</td>\n",
       "      <td>0</td>\n",
       "      <td>0</td>\n",
       "    </tr>\n",
       "    <tr>\n",
       "      <th>3</th>\n",
       "      <td>@leopve</td>\n",
       "      <td>https://yt3.ggpht.com/ytc/APkrFKac16fISU1hP5JF...</td>\n",
       "      <td>7990 :D</td>\n",
       "      <td>2012-09-28 21:56:48.904194</td>\n",
       "      <td>11 years ago</td>\n",
       "      <td>UgzhFuJC8dHycZ-rbwl4AaABAg</td>\n",
       "      <td>0</td>\n",
       "      <td>0</td>\n",
       "    </tr>\n",
       "    <tr>\n",
       "      <th>4</th>\n",
       "      <td>@niwrem1</td>\n",
       "      <td>https://yt3.ggpht.com/ytc/APkrFKZKE4Hy00Ys8J9R...</td>\n",
       "      <td>yeah but you dont even have one</td>\n",
       "      <td>2012-09-28 21:56:48.904194</td>\n",
       "      <td>11 years ago</td>\n",
       "      <td>UgyM9nL53RfpTTHc-zN4AaABAg</td>\n",
       "      <td>0</td>\n",
       "      <td>0</td>\n",
       "    </tr>\n",
       "    <tr>\n",
       "      <th>5</th>\n",
       "      <td>@thedamntrain5481</td>\n",
       "      <td>https://yt3.ggpht.com/ytc/APkrFKZcmALT99mq4MFj...</td>\n",
       "      <td>Lol</td>\n",
       "      <td>2022-09-26 21:56:48.904194</td>\n",
       "      <td>1 year ago</td>\n",
       "      <td>UgxtvABXJtAVijnG91F4AaABAg</td>\n",
       "      <td>0</td>\n",
       "      <td>0</td>\n",
       "    </tr>\n",
       "  </tbody>\n",
       "</table>\n",
       "</div>"
      ],
      "text/plain": [
       "   commentAuthorName                                    authorThumbnail  \\\n",
       "0     @pyrophobia133  https://yt3.ggpht.com/ytc/APkrFKYbSjvPJWqKvqme...   \n",
       "1     @atiradeon8645  https://yt3.ggpht.com/ytc/APkrFKa6NxWR5LQW6NMg...   \n",
       "2      @Silent-ci3ug  https://yt3.ggpht.com/MXvEsO5OjLlJaF01lNK4oKuz...   \n",
       "3            @leopve  https://yt3.ggpht.com/ytc/APkrFKac16fISU1hP5JF...   \n",
       "4           @niwrem1  https://yt3.ggpht.com/ytc/APkrFKZKE4Hy00Ys8J9R...   \n",
       "5  @thedamntrain5481  https://yt3.ggpht.com/ytc/APkrFKZcmALT99mq4MFj...   \n",
       "\n",
       "                                commentText       commentPublishedTime  \\\n",
       "0                             long live GCN 2021-09-26 21:56:48.904194   \n",
       "1  Hello AMD who is the owner of ATI RADEON 2021-09-26 21:56:48.904194   \n",
       "2                         So long ago damn. 2021-09-26 21:56:48.904194   \n",
       "3                                   7990 :D 2012-09-28 21:56:48.904194   \n",
       "4           yeah but you dont even have one 2012-09-28 21:56:48.904194   \n",
       "5                                       Lol 2022-09-26 21:56:48.904194   \n",
       "\n",
       "  commentPublishedTimeText                   commentId CommentLikes  \\\n",
       "0              2 years ago  UgwoaddDYBhkqNMy3SB4AaABAg            1   \n",
       "1              2 years ago  UgwJXclF6eV_cWx1XuR4AaABAg            0   \n",
       "2              2 years ago  UgyiIU8AbCo3tuxPK114AaABAg            0   \n",
       "3             11 years ago  UgzhFuJC8dHycZ-rbwl4AaABAg            0   \n",
       "4             11 years ago  UgyM9nL53RfpTTHc-zN4AaABAg            0   \n",
       "5               1 year ago  UgxtvABXJtAVijnG91F4AaABAg            0   \n",
       "\n",
       "   CommentReplies  \n",
       "0               0  \n",
       "1               0  \n",
       "2               0  \n",
       "3               0  \n",
       "4               0  \n",
       "5               0  "
      ]
     },
     "execution_count": 19,
     "metadata": {},
     "output_type": "execute_result"
    }
   ],
   "source": [
    "comments_df = pandas.DataFrame(comments)\n",
    "comments_df"
   ]
  },
  {
   "cell_type": "code",
   "execution_count": null,
   "metadata": {},
   "outputs": [],
   "source": []
  }
 ],
 "metadata": {
  "kernelspec": {
   "display_name": "Python 3",
   "language": "python",
   "name": "python3"
  },
  "language_info": {
   "codemirror_mode": {
    "name": "ipython",
    "version": 3
   },
   "file_extension": ".py",
   "mimetype": "text/x-python",
   "name": "python",
   "nbconvert_exporter": "python",
   "pygments_lexer": "ipython3",
   "version": "3.11.5"
  },
  "orig_nbformat": 4,
  "vscode": {
   "interpreter": {
    "hash": "31f2aee4e71d21fbe5cf8b01ff0e069b9275f58929596ceb00d14d90e3e16cd6"
   }
  }
 },
 "nbformat": 4,
 "nbformat_minor": 2
}
